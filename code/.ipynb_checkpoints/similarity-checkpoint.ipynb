{
 "cells": [
  {
   "cell_type": "code",
   "execution_count": 1,
   "metadata": {},
   "outputs": [],
   "source": [
    "#please comment and uncomment lines as per given source and target language data\n",
    "import pandas as pd\n",
    "import numpy as np\n",
    "\n",
    "path_name = \"../resources/en-pt-de.csv\"\n",
    "df = pd.read_csv(path_name, skiprows = 1, names = [\"En_Id\",\"En_Sentence\",\"Pt_Id\",\"Pt_Sentence\",\"De_Id\",\"De_Sentence\"], encoding = 'utf-8')\n",
    "#df = pd.read_csv(path_name, skiprows = 1, names = [\"En_Id\",\"En_Sentence\",\"Pt_Id\",\"Pt_Sentence\"], encoding = 'utf-8')\n",
    "#df = pd.read_csv(path_name, skiprows = 1, names = [\"En_Id\",\"En_Sentence\",\"De_Id\",\"De_Sentence\"], encoding = 'utf-8')"
   ]
  },
  {
   "cell_type": "code",
   "execution_count": 2,
   "metadata": {},
   "outputs": [],
   "source": [
    "import pickle as pkl\n",
    "\n",
    "with open(\"../resources/annotated_data.pickle\",\"rb\") as pkl_in:\n",
    "    data = pkl.load(pkl_in)\n",
    "    text = pkl.load(pkl_in)\n",
    "    \n",
    "with open(\"../resources/frame_embeddings.pickle\", \"rb\") as pkl_in:\n",
    "    fname = pkl.load(pkl_in)\n",
    "    felem = pkl.load(pkl_in)\n",
    "    pos = pkl.load(pkl_in)\n",
    "    \n",
    "with open('../resources/en_embeddings.pickle', 'rb') as pkl_in:\n",
    "    en_lu = pkl.load(pkl_in)\n",
    "    en_fe_lu = pkl.load(pkl_in)\n",
    "    \n",
    "with open('../resources/de_embeddings.pickle', 'rb') as pkl_in:\n",
    "    de_lu = pkl.load(pkl_in)\n",
    "    de_fe_lu = pkl.load(pkl_in)\n",
    "    \n",
    "with open('../resources/pt_embeddings.pickle', 'rb') as pkl_in:\n",
    "    pt_lu = pkl.load(pkl_in)\n",
    "    pt_fe_lu = pkl.load(pkl_in)"
   ]
  },
  {
   "cell_type": "code",
   "execution_count": 3,
   "metadata": {},
   "outputs": [],
   "source": [
    "def dict_of_oov(file):\n",
    "    dict_oov = {}\n",
    "    for item in file:\n",
    "        temp = item.split(\" \")\n",
    "        del temp[-1]\n",
    "        dict_oov[temp[0]] = np.asarray([float(i) for i in temp[1:]])  \n",
    "    return dict_oov"
   ]
  },
  {
   "cell_type": "code",
   "execution_count": 4,
   "metadata": {},
   "outputs": [],
   "source": [
    "#handling out-of-vocabulary words\n",
    "with open('../resources/oov_en.bin','r') as f:\n",
    "    file_en = f.readlines()\n",
    "en_oov = dict_of_oov(file_en)  \n",
    "\n",
    "with open('../resources/oov_de.bin','r') as f:\n",
    "    file_de = f.readlines()\n",
    "de_oov = dict_of_oov(file_de)\n",
    "\n",
    "with open('../resources/oov_pt.bin','r') as f:\n",
    "    file_pt = f.readlines()\n",
    "pt_oov = dict_of_oov(file_pt)"
   ]
  },
  {
   "cell_type": "code",
   "execution_count": 5,
   "metadata": {},
   "outputs": [],
   "source": [
    "#collecting frame embeddings from pretrained and oov \n",
    "def get_frames(ID, lang):\n",
    "    frame_ft = {}\n",
    "    felem_ft = {}\n",
    "    total_ft = {}\n",
    "    for index, row in df.iterrows():\n",
    "        em_fn = []\n",
    "        em_fe = []\n",
    "        em = []\n",
    "        key = str(int(row[ID])) + \"_\" + lang\n",
    "        print(key)\n",
    "        frames = []\n",
    "        frame_elem = []\n",
    "        flag = 0\n",
    "        try:\n",
    "            frames = [fn for fn in data[key]['frame_name']]\n",
    "            frame_elem = [fn for fn in data[key]['frame_element']]\n",
    "        except:\n",
    "            em_fn = np.zeros(300)\n",
    "            em_fe = np.zeros(300)\n",
    "            flag = 1\n",
    "        \n",
    "        if flag != 1:\n",
    "            for fn in frames:\n",
    "                try:\n",
    "                    em_fn.append(fname[fn.lower()])\n",
    "                except:\n",
    "                    em_fn.append(en_oov[fn.lower()])\n",
    "            em_fn = np.average(em_fn, axis = 0)\n",
    "\n",
    "            for fn in frame_elem:\n",
    "\n",
    "                #each frame has a list of corresponding frame elements\n",
    "                for fe in fn:\n",
    "                    try:\n",
    "                        em_fe.append(felem[fe.lower()])\n",
    "                    except:\n",
    "                        em_fe.append(en_oov[fn])\n",
    "\n",
    "            em_fe = np.average(em_fe, axis = 0)\n",
    "\n",
    "        frame_ft[key] = em_fn\n",
    "        felem_ft[key] = em_fe\n",
    "        #print(em_fn)\n",
    "        #print(em_fe)\n",
    "        total_ft[key] = np.concatenate([em_fn , em_fe])\n",
    "        #total_ft[key] = em_fn + em_fe\n",
    "        \n",
    "    return frame_ft, felem_ft, total_ft"
   ]
  },
  {
   "cell_type": "code",
   "execution_count": 6,
   "metadata": {},
   "outputs": [],
   "source": [
    "def get_lus(ID, lang, lu, fe_lu, oov):\n",
    "    ft_lu = {}\n",
    "    ft_fe_lu = {}\n",
    "    for index, row in df.iterrows():\n",
    "        em_lu = []\n",
    "        em_fe_lu = []\n",
    "        em = []\n",
    "        lex_unit = []\n",
    "        fe_lex_unit = []\n",
    "        key = str(int(row[ID])) + \"_\" + lang\n",
    "        flag = 0\n",
    "        try:\n",
    "            lex_unit = [item for item in data[key]['lu']]\n",
    "            fe_lex_unit = [item for item in data[key]['frame_element_lu']]\n",
    "        except:\n",
    "            em_lu = np.zeros(300)\n",
    "            em_fe_lu = np.zeros(300)\n",
    "            flag = 1\n",
    "        \n",
    "        if flag != 1 :\n",
    "            for item in lex_unit:\n",
    "                try:\n",
    "                    em_lu.append(lu[item.lower()])\n",
    "                except:\n",
    "                    item = list(filter(None, item.split(\" \")))\n",
    "\n",
    "                    if len(item) > 1 :\n",
    "                        temp_em = []\n",
    "                        for f in item:\n",
    "                            temp_em.append(list(oov[f.lower()]))\n",
    "\n",
    "                        temp_em = np.average(temp_em, axis = 0) \n",
    "\n",
    "                        em_lu.append(temp_em)\n",
    "\n",
    "            em_lu = np.average(em_lu, axis = 0)\n",
    "\n",
    "            for item in fe_lex_unit:\n",
    "\n",
    "                #each frame has a list of corresponding frame elements\n",
    "                for fe in item:\n",
    "                    try:\n",
    "                        em_fe_lu.append(fe_lu[fe.lower()])\n",
    "                    except:\n",
    "                        #removing null characters and splitting the frame element into words\n",
    "                        fe = list(filter(None, fe.split(\" \")))\n",
    "                        if len(fe) > 1 :\n",
    "                            temp_em = []\n",
    "\n",
    "                            for f in fe:\n",
    "                                temp_em.append(list(oov[f.lower()]))\n",
    "\n",
    "                            temp_em = np.average(temp_em, axis = 0) \n",
    "\n",
    "                        em_fe_lu.append(temp_em)\n",
    "\n",
    "            em_fe_lu = np.average(em_fe_lu, axis = 0)\n",
    "        \n",
    "        ft_lu[key] = em_lu\n",
    "        #total_ft[key] = np.concatenate([em_item , em_fe])\n",
    "        ft_fe_lu[key] = em_fe_lu\n",
    "        \n",
    "    return ft_lu, ft_fe_lu\n",
    "    "
   ]
  },
  {
   "cell_type": "code",
   "execution_count": 7,
   "metadata": {},
   "outputs": [
    {
     "name": "stdout",
     "output_type": "stream",
     "text": [
      "1008_en\n",
      "1009_en\n",
      "1010_en\n",
      "1011_en\n",
      "1012_en\n",
      "1013_en\n",
      "1014_en\n",
      "1015_en\n",
      "1016_en\n",
      "1017_en\n",
      "1018_en\n",
      "1019_en\n",
      "1020_en\n",
      "1021_en\n",
      "1022_en\n",
      "1023_en\n",
      "1024_en\n",
      "1025_en\n",
      "1026_en\n",
      "1027_en\n",
      "1027_en\n",
      "1028_en\n",
      "1029_en\n",
      "1030_en\n",
      "1031_en\n",
      "1032_en\n",
      "1033_en\n",
      "1034_en\n",
      "1035_en\n",
      "1036_en\n",
      "1037_en\n",
      "1038_en\n",
      "1039_en\n",
      "1039_en\n",
      "737_pt\n",
      "738_pt\n",
      "739_pt\n",
      "740_pt\n",
      "741_pt\n",
      "742_pt\n",
      "743_pt\n",
      "744_pt\n",
      "745_pt\n",
      "746_pt\n",
      "747_pt\n",
      "748_pt\n",
      "749_pt\n",
      "750_pt\n",
      "751_pt\n",
      "752_pt\n",
      "753_pt\n",
      "754_pt\n",
      "755_pt\n",
      "756_pt\n",
      "757_pt\n",
      "758_pt\n",
      "758_pt\n",
      "759_pt\n",
      "760_pt\n",
      "760_pt\n",
      "761_pt\n",
      "762_pt\n",
      "763_pt\n",
      "764_pt\n",
      "765_pt\n",
      "766_pt\n",
      "767_pt\n",
      "768_pt\n",
      "1275_de\n",
      "1276_de\n",
      "1277_de\n",
      "1278_de\n",
      "1279_de\n",
      "1280_de\n",
      "1281_de\n",
      "1281_de\n",
      "1282_de\n",
      "1283_de\n",
      "1284_de\n",
      "1285_de\n",
      "1286_de\n",
      "1287_de\n",
      "1288_de\n",
      "1288_de\n",
      "1289_de\n",
      "1290_de\n",
      "1291_de\n",
      "1292_de\n",
      "1292_de\n",
      "1293_de\n",
      "1294_de\n",
      "1295_de\n",
      "1296_de\n",
      "1296_de\n",
      "1297_de\n",
      "1298_de\n",
      "1299_de\n",
      "1300_de\n",
      "1301_de\n",
      "1302_de\n",
      "1303_de\n",
      "1303_de\n"
     ]
    }
   ],
   "source": [
    "#getting all frame and frame element embeddings for comparison\n",
    "en_fn_features, en_fe_features, total_en = get_frames('En_Id', \"en\")\n",
    "pt_fn_features, pt_fe_features, total_pt = get_frames('Pt_Id', \"pt\")\n",
    "de_fn_features, de_fe_features, total_de = get_frames('De_Id', \"de\")\n",
    "\n",
    "#getting all lu and frame element lu embeddings for comparison\n",
    "en_lu_ft, en_fe_lu_ft = get_lus('En_Id', \"en\", en_lu, en_fe_lu, en_oov)\n",
    "pt_lu_ft, pt_fe_lu_ft = get_lus('Pt_Id', \"pt\", pt_lu, pt_fe_lu, pt_oov)\n",
    "de_lu_ft, de_fe_lu_ft = get_lus('De_Id', \"de\", de_lu, de_fe_lu, de_oov)"
   ]
  },
  {
   "cell_type": "code",
   "execution_count": 8,
   "metadata": {},
   "outputs": [],
   "source": [
    "#storing features\n",
    "with open(\"../resources/sentence_features_en.pickle\", \"wb\") as pkl_en:\n",
    "    pkl.dump(en_fn_features, pkl_en)\n",
    "    pkl.dump(en_fe_features, pkl_en)\n",
    "    pkl.dump(total_en, pkl_en)\n",
    "    pkl.dump(en_lu_ft, pkl_en)\n",
    "    pkl.dump(en_fe_lu_ft, pkl_en)\n",
    "    \n",
    "with open(\"../resources/sentence_features_pt.pickle\", \"wb\") as pkl_pt:\n",
    "    pkl.dump(pt_fn_features, pkl_pt)\n",
    "    pkl.dump(pt_fe_features, pkl_pt)\n",
    "    pkl.dump(total_pt, pkl_pt)\n",
    "    pkl.dump(pt_lu_ft, pkl_pt)\n",
    "    pkl.dump(pt_fe_lu_ft, pkl_pt)\n",
    "    \n",
    "with open(\"../resources/sentence_features_de.pickle\", \"wb\") as pkl_de:\n",
    "    pkl.dump(de_fn_features, pkl_de)\n",
    "    pkl.dump(de_fe_features, pkl_de)\n",
    "    pkl.dump(total_de, pkl_de)\n",
    "    pkl.dump(de_lu_ft, pkl_de)\n",
    "    pkl.dump(de_fe_lu_ft, pkl_de)\n"
   ]
  },
  {
   "cell_type": "code",
   "execution_count": 9,
   "metadata": {},
   "outputs": [],
   "source": [
    "import math\n",
    "from scipy import spatial\n",
    "#method to calculate cosine similarity score of two sentences given two features \n",
    "def get_score(id1, id2, lang1, lang2, ft1, ft2):\n",
    "    scores = {}\n",
    "    for index, row in df.iterrows():\n",
    "        key1 = str(row[id1]) + \"_\" + lang1\n",
    "        key2 = str(row[id2]) + \"_\" + lang2\n",
    "        \n",
    "        if math.isnan(1 - spatial.distance.cosine(ft1[key1], ft2[key2])):\n",
    "                scores[str(row[id1])+\"_\"+str(row[id2])] = 0.0\n",
    "        else:\n",
    "                scores[str(row[id1])+\"_\"+str(row[id2])] = 1 - spatial.distance.cosine(ft1[key1], ft2[key2])\n",
    "\n",
    "    return scores"
   ]
  },
  {
   "cell_type": "code",
   "execution_count": 10,
   "metadata": {},
   "outputs": [],
   "source": [
    "#method to calculate cosine similarity score of every sentence with other\n",
    "def get_score_for_heatmap(id1, id2, lang1, lang2, ft1, ft2):\n",
    "    scores = {}\n",
    "    for idx1, row1 in df.iterrows():\n",
    "        key1 = str(row1[id1]) + \"_\" + lang1\n",
    "        for idx2, row2 in df.iterrows():\n",
    "            key2 = str(row2[id2]) + \"_\" + lang2\n",
    "            \n",
    "            if math.isnan(1 - spatial.distance.cosine(ft1[key1], ft2[key2])):\n",
    "                scores[str(row1[id1])+\"_\"+str(row2[id2])] = 0.0\n",
    "            else:\n",
    "                scores[str(row1[id1])+\"_\"+str(row2[id2])] = 1 - spatial.distance.cosine(ft1[key1], ft2[key2])\n",
    "\n",
    "    return scores"
   ]
  },
  {
   "cell_type": "code",
   "execution_count": 11,
   "metadata": {},
   "outputs": [
    {
     "name": "stderr",
     "output_type": "stream",
     "text": [
      "/home/Debanjana/anaconda3/envs/gsoc19/lib/python3.6/site-packages/scipy/spatial/distance.py:720: RuntimeWarning: invalid value encountered in double_scalars\n",
      "  dist = 1.0 - uv / np.sqrt(uu * vv)\n"
     ]
    }
   ],
   "source": [
    "#scores for frame based sentence similarity\n",
    "en_pt_scores = get_score(\"En_Id\", \"Pt_Id\", \"en\", \"pt\", en_fn_features, pt_fn_features)\n",
    "en_de_scores = get_score(\"En_Id\", \"De_Id\", \"en\", \"de\", en_fn_features, de_fn_features)\n",
    "pt_de_scores = get_score(\"Pt_Id\", \"De_Id\", \"pt\", \"de\", pt_fn_features, de_fn_features)\n",
    "\n",
    "#scores for frame name + frame elem sentence similarity\n",
    "en_pt_fnfe_scores = get_score(\"En_Id\", \"Pt_Id\", \"en\", \"pt\", total_en, total_pt)\n",
    "en_de_fnfe_scores = get_score(\"En_Id\", \"De_Id\", \"en\", \"de\", total_en, total_de)\n",
    "pt_de_fnfe_scores = get_score(\"Pt_Id\", \"De_Id\", \"pt\", \"de\", total_pt, total_de)\n",
    "\n",
    "#scores for frame + lu sentence similarity\n",
    "en_ft = {k:np.concatenate([np.reshape(v,(1, len(v)) ), np.reshape(en_lu_ft[k], (1, len(en_lu_ft[k])))], axis = 1) for k, v in en_fn_features.items()}\n",
    "pt_ft = {k:np.concatenate([np.reshape(v,(1, len(v)) ), np.reshape(pt_lu_ft[k], (1, len(pt_lu_ft[k])))], axis = 1) for k, v in pt_fn_features.items()}\n",
    "de_ft = {k:np.concatenate([np.reshape(v,(1, len(v)) ), np.reshape(de_lu_ft[k], (1, len(de_lu_ft[k])))], axis = 1) for k, v in de_fn_features.items()}\n",
    "\n",
    "#en_pt_lu_scores = get_score(\"En_Id\", \"Pt_Id\", \"en\", \"pt\", en_ft, pt_ft)\n",
    "en_de_lu_scores = get_score(\"En_Id\", \"De_Id\", \"en\", \"de\", en_ft, de_ft)\n",
    "pt_de_lu_scores = get_score(\"Pt_Id\", \"De_Id\", \"pt\", \"de\", pt_ft, de_ft)\n",
    "\n",
    "#scores for frame + frame elem+ lu + frame element lu similarity\n",
    "en_ft = {k:np.concatenate([np.reshape(v,(1, len(v)) ), np.reshape(en_fe_features[k], (1, len(en_fe_features[k]))), np.reshape(en_lu_ft[k], (1, len(en_lu_ft[k]))), np.reshape(en_fe_lu_ft[k], (1, len(en_fe_lu_ft[k])))], axis = 1) for k, v in en_fn_features.items()}\n",
    "pt_ft = {k:np.concatenate([np.reshape(v,(1, len(v)) ), np.reshape(pt_fe_features[k], (1, len(pt_fe_features[k]))), np.reshape(pt_lu_ft[k], (1, len(pt_lu_ft[k]))), np.reshape(pt_fe_lu_ft[k], (1, len(pt_fe_lu_ft[k])))], axis = 1) for k, v in pt_fn_features.items()}\n",
    "de_ft = {k:np.concatenate([np.reshape(v,(1, len(v)) ), np.reshape(de_fe_features[k], (1, len(de_fe_features[k]))), np.reshape(de_lu_ft[k], (1, len(de_lu_ft[k]))), np.reshape(de_fe_lu_ft[k], (1, len(de_fe_lu_ft[k])))], axis = 1) for k, v in de_fn_features.items()}\n",
    "\n",
    "en_pt_tot_scores = get_score(\"En_Id\", \"Pt_Id\", \"en\", \"pt\", en_ft, pt_ft)\n",
    "en_de_tot_scores = get_score(\"En_Id\", \"De_Id\", \"en\", \"de\", en_ft, de_ft)\n",
    "pt_de_tot_scores = get_score(\"Pt_Id\", \"De_Id\", \"pt\", \"de\", pt_ft, de_ft)"
   ]
  },
  {
   "cell_type": "code",
   "execution_count": 12,
   "metadata": {},
   "outputs": [],
   "source": [
    "#storing results\n",
    "import json\n",
    "\"\"\"with open('../results/en_pt_results/fn_results_en-pt.json', 'w') as f:\n",
    "    json.dump(en_pt_scores, f, indent = 4)\n",
    "\n",
    "with open('../results/en_pt_results/fnfe_results_en-pt.json', 'w') as f:\n",
    "    json.dump(en_pt_fnfe_scores, f, indent = 4)\n",
    "    \n",
    "with open('../results/en_pt_results/fnlu_results_en-pt.json', 'w') as f:\n",
    "    json.dump(en_pt_lu_scores, f, indent = 4)\n",
    "    \n",
    "with open('../results/en_pt_results/total_results_en-pt.json', 'w') as f:\n",
    "    json.dump(en_pt_tot_scores, f, indent = 4)\"\"\"\n",
    "\n",
    "'''with open('../results/en_de_results/fn_results_en-de.json', 'w') as f:\n",
    "    json.dump(en_de_scores, f, indent = 4)\n",
    "\n",
    "with open('../results/en_de_results/fnfe_results_en-de.json', 'w') as f:\n",
    "    json.dump(en_de_fnfe_scores, f, indent = 4)\n",
    "    \n",
    "with open('../results/en_de_results/fnlu_results_en-de.json', 'w') as f:\n",
    "    json.dump(en_pt_lu_scores, f, indent = 4)\n",
    "    \n",
    "with open('../results/en_de_results/total_results_en-de.json', 'w') as f:\n",
    "    json.dump(en_de_tot_scores, f, indent = 4)'''\n",
    "\n",
    "with open('../results/pt_de_results/fn_results_pt-de.json', 'w') as f:\n",
    "    json.dump(pt_de_scores, f, indent = 4)\n",
    "\n",
    "with open('../results/pt_de_results/fnfe_results_pt-de.json', 'w') as f:\n",
    "    json.dump(pt_de_fnfe_scores, f, indent = 4)\n",
    "    \n",
    "with open('../results/pt_de_results/fnlu_results_pt-de.json', 'w') as f:\n",
    "    json.dump(pt_de_lu_scores, f, indent = 4)\n",
    "    \n",
    "with open('../results/pt_de_results/total_results_pt-de.json', 'w') as f:\n",
    "    json.dump(pt_de_tot_scores, f, indent = 4)\n",
    "\n"
   ]
  },
  {
   "cell_type": "code",
   "execution_count": 13,
   "metadata": {},
   "outputs": [],
   "source": [
    "#scores of each sentence with rest to generate feature based heat map\n",
    "#frame-name based\n",
    "en_pt_fn_heatmap = get_score_for_heatmap(\"En_Id\", \"Pt_Id\", \"en\", \"pt\", en_fn_features, pt_fn_features)\n",
    "en_de_fn_heatmap = get_score_for_heatmap(\"En_Id\", \"De_Id\", \"en\", \"de\", en_fn_features, de_fn_features)\n",
    "pt_de_fn_heatmap = get_score_for_heatmap(\"Pt_Id\", \"De_Id\", \"pt\", \"de\", pt_fn_features, de_fn_features)\n",
    "\n",
    "#frame-name + frame-element based\n",
    "en_pt_fnfe_heatmap = get_score_for_heatmap(\"En_Id\", \"Pt_Id\", \"en\", \"pt\", total_en, total_pt)\n",
    "en_de_fnfe_heatmap = get_score_for_heatmap(\"En_Id\", \"De_Id\", \"en\", \"de\", total_en, total_de)\n",
    "pt_de_fnfe_heatmap = get_score_for_heatmap(\"Pt_Id\", \"De_Id\", \"pt\", \"de\", total_pt, total_de)\n",
    "\n",
    "#frame + frame elem+ lu + frame element lu based\n",
    "en_pt_tot_heatmap = get_score_for_heatmap(\"En_Id\", \"Pt_Id\", \"en\", \"pt\", en_ft, pt_ft)\n",
    "en_de_tot_heatmap = get_score_for_heatmap(\"En_Id\", \"De_Id\", \"en\", \"de\", en_ft, de_ft)\n",
    "pt_de_tot_heatmap = get_score_for_heatmap(\"Pt_Id\", \"De_Id\", \"pt\", \"de\", pt_ft, de_ft)"
   ]
  },
  {
   "cell_type": "code",
   "execution_count": 14,
   "metadata": {},
   "outputs": [],
   "source": [
    "import seaborn as sns\n",
    "def get_heat_map_matrix(heat_map_dict, start_eng_idx, start_por_idx, no_of_eng_sentences, no_of_por_sentences):\n",
    "    \n",
    "    heat_map_matrix = np.zeros((no_of_eng_sentences, no_of_por_sentences))\n",
    "    x_label = []\n",
    "    y_label = []\n",
    "    \n",
    "    for idx in heat_map_dict:\n",
    "        indices = list(map(int, idx.split(\"_\")))\n",
    "        x_label.append(indices[0])\n",
    "        y_label.append(indices[1])\n",
    "        \n",
    "        cur_eng_idx = indices[0] - start_eng_idx\n",
    "        cur_por_idx = indices[1] - start_por_idx\n",
    "        \n",
    "        if  math.isnan(heat_map_dict[idx]):\n",
    "            heat_map_matrix[cur_eng_idx][cur_por_idx] = 0.0\n",
    "        else:\n",
    "            heat_map_matrix[cur_eng_idx][cur_por_idx] = heat_map_dict[idx]\n",
    "    \n",
    "    x_label = sorted(list(set(x_label)))\n",
    "    y_label = sorted(list(set(y_label)))\n",
    "    return heat_map_matrix, x_label, y_label\n"
   ]
  },
  {
   "cell_type": "code",
   "execution_count": 15,
   "metadata": {},
   "outputs": [
    {
     "data": {
      "text/plain": [
       "Text(0.5, 1, 'Frame Based Sentence Similarity for English-Portuguese Sentence pairs')"
      ]
     },
     "execution_count": 15,
     "metadata": {},
     "output_type": "execute_result"
    },
    {
     "data": {
      "image/png": "[encoded data removed]",
      "text/plain": [
       "<Figure size 432x288 with 2 Axes>"
      ]
     },
     "metadata": {
      "needs_background": "light"
     },
     "output_type": "display_data"
    }
   ],
   "source": [
    "heat_map_matrix, x_label, y_label = get_heat_map_matrix(en_pt_fn_heatmap, int(next(iter(en_pt_fn_heatmap)).split(\"_\")[0]), int(next(iter(en_pt_fn_heatmap)).split(\"_\")[1]), len(en_fn_features), len(pt_fn_features))\n",
    "g = sns.heatmap(heat_map_matrix, center = 0, xticklabels=x_label, yticklabels=y_label)    \n",
    "g.set_xticklabels(x_label, rotation=90)\n",
    "g.set_title(\"Frame Based Sentence Similarity for English-Portuguese Sentence pairs\")\n"
   ]
  },
  {
   "cell_type": "code",
   "execution_count": 16,
   "metadata": {},
   "outputs": [
    {
     "data": {
      "text/plain": [
       "Text(0.5, 1, 'Frame Based Sentence Similarity for English-Deutsche Sentence pairs')"
      ]
     },
     "execution_count": 16,
     "metadata": {},
     "output_type": "execute_result"
    },
    {
     "data": {
      "image/png": "[encoded data removed]",
      "text/plain": [
       "<Figure size 432x288 with 2 Axes>"
      ]
     },
     "metadata": {
      "needs_background": "light"
     },
     "output_type": "display_data"
    }
   ],
   "source": [
    "heat_map_matrix, x_label, y_label = get_heat_map_matrix(en_de_fn_heatmap, int(next(iter(en_de_fn_heatmap)).split(\"_\")[0]), int(next(iter(en_de_fn_heatmap)).split(\"_\")[1]), len(en_fn_features), len(de_fn_features))\n",
    "g1 = sns.heatmap(heat_map_matrix, center = 0, xticklabels=x_label, yticklabels=y_label)    \n",
    "g1.set_xticklabels(x_label, rotation=90)\n",
    "g1.set_title(\"Frame Based Sentence Similarity for English-Deutsche Sentence pairs\")"
   ]
  },
  {
   "cell_type": "code",
   "execution_count": 17,
   "metadata": {},
   "outputs": [
    {
     "data": {
      "text/plain": [
       "Text(0.5, 1, 'Frame Based Sentence Similarity for Portuguese-Deutsche Sentence pairs')"
      ]
     },
     "execution_count": 17,
     "metadata": {},
     "output_type": "execute_result"
    },
    {
     "data": {
      "image/png": "[encoded data removed]",
      "text/plain": [
       "<Figure size 432x288 with 2 Axes>"
      ]
     },
     "metadata": {
      "needs_background": "light"
     },
     "output_type": "display_data"
    }
   ],
   "source": [
    "\n",
    "heat_map_matrix, x_label, y_label = get_heat_map_matrix(pt_de_fn_heatmap, int(next(iter(pt_de_fn_heatmap)).split(\"_\")[0]), int(next(iter(pt_de_fn_heatmap)).split(\"_\")[1]), len(pt_fn_features), len(de_fn_features))\n",
    "g2 = sns.heatmap(heat_map_matrix, center = 0, xticklabels=x_label, yticklabels=y_label)    \n",
    "g2.set_xticklabels(x_label, rotation=90)\n",
    "g2.set_title(\"Frame Based Sentence Similarity for Portuguese-Deutsche Sentence pairs\")\n"
   ]
  },
  {
   "cell_type": "code",
   "execution_count": 18,
   "metadata": {},
   "outputs": [
    {
     "data": {
      "text/plain": [
       "Text(0.5, 1, 'Frame & Frame Element Based Sentence Similarity for Portuguese-Deutsche Sentence pairs')"
      ]
     },
     "execution_count": 18,
     "metadata": {},
     "output_type": "execute_result"
    },
    {
     "data": {
      "image/png": "[encoded data removed]",
      "text/plain": [
       "<Figure size 432x288 with 2 Axes>"
      ]
     },
     "metadata": {
      "needs_background": "light"
     },
     "output_type": "display_data"
    }
   ],
   "source": [
    "heat_map_matrix, x_label, y_label = get_heat_map_matrix(pt_de_fnfe_heatmap, int(next(iter(pt_de_fnfe_heatmap)).split(\"_\")[0]), int(next(iter(pt_de_fnfe_heatmap)).split(\"_\")[1]), len(total_pt), len(total_de))\n",
    "g = sns.heatmap(heat_map_matrix, center = 0, xticklabels=x_label, yticklabels=y_label)    \n",
    "g.set_xticklabels(x_label, rotation=90)\n",
    "g.set_title(\"Frame & Frame Element Based Sentence Similarity for Portuguese-Deutsche Sentence pairs\")"
   ]
  },
  {
   "cell_type": "code",
   "execution_count": 19,
   "metadata": {},
   "outputs": [
    {
     "data": {
      "text/plain": [
       "Text(0.5, 1, 'All frame based features considered Sentence Similarity for Portuguese-Deutsche Sentence pairs')"
      ]
     },
     "execution_count": 19,
     "metadata": {},
     "output_type": "execute_result"
    },
    {
     "data": {
      "image/png": "[encoded data removed]",
      "text/plain": [
       "<Figure size 432x288 with 2 Axes>"
      ]
     },
     "metadata": {
      "needs_background": "light"
     },
     "output_type": "display_data"
    }
   ],
   "source": [
    "heat_map_matrix, x_label, y_label = get_heat_map_matrix(pt_de_tot_heatmap, int(next(iter(pt_de_tot_heatmap)).split(\"_\")[0]), int(next(iter(pt_de_tot_heatmap)).split(\"_\")[1]), len(pt_ft), len(de_ft))\n",
    "g = sns.heatmap(heat_map_matrix, center = 0, xticklabels=x_label, yticklabels=y_label)    \n",
    "g.set_xticklabels(x_label, rotation=90)\n",
    "g.set_title(\"All frame based features considered Sentence Similarity for Portuguese-Deutsche Sentence pairs\")\n"
   ]
  },
  {
   "cell_type": "code",
   "execution_count": 20,
   "metadata": {},
   "outputs": [
    {
     "data": {
      "text/plain": [
       "{'text': 'But James got the part of Joseph, which we were thrilled about.',\n",
       " 'lu': ['get', 'thrilled', 'part'],\n",
       " 'pos_tag': ['v', 'a', 'n'],\n",
       " 'frame_name': ['Getting', 'Emotion_directed', 'Performers_and_roles'],\n",
       " 'frame_element': [['Recipient', 'Theme'],\n",
       "  ['Event', 'Experiencer', 'Event'],\n",
       "  ['Role']],\n",
       " 'frame_element_lu': [['James', 'the part of Joseph'],\n",
       "  ['which', 'we', 'about'],\n",
       "  ['of Joseph']]}"
      ]
     },
     "execution_count": 20,
     "metadata": {},
     "output_type": "execute_result"
    }
   ],
   "source": [
    "data['1068_en']"
   ]
  },
  {
   "cell_type": "code",
   "execution_count": null,
   "metadata": {},
   "outputs": [],
   "source": []
  }
 ],
 "metadata": {
  "kernelspec": {
   "display_name": "gsoc19",
   "language": "python",
   "name": "gsoc19"
  },
  "language_info": {
   "codemirror_mode": {
    "name": "ipython",
    "version": 3
   },
   "file_extension": ".py",
   "mimetype": "text/x-python",
   "name": "python",
   "nbconvert_exporter": "python",
   "pygments_lexer": "ipython3",
   "version": "3.6.8"
  }
 },
 "nbformat": 4,
 "nbformat_minor": 2
}
