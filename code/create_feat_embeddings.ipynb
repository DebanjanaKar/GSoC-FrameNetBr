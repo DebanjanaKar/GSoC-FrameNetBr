{
 "cells": [
  {
   "cell_type": "code",
   "execution_count": 57,
   "metadata": {},
   "outputs": [],
   "source": [
    "import time\n",
    "start_time = time.time()"
   ]
  },
  {
   "cell_type": "code",
   "execution_count": 58,
   "metadata": {},
   "outputs": [],
   "source": [
    "import pickle as pkl\n",
    "\n",
    "with open(\"../resources/annotated_data.pickle\",\"rb\") as pkl_in:\n",
    "    data = pkl.load(pkl_in)\n",
    "    text = pkl.load(pkl_in)\n",
    "    lu = pkl.load(pkl_in)\n",
    "    pos_tag = pkl.load(pkl_in)\n",
    "    frame_name = pkl.load(pkl_in)\n",
    "    frame_element = pkl.load(pkl_in)\n",
    "    frame_element_lu = pkl.load(pkl_in)\n",
    "    lang = pkl.load(pkl_in)\n"
   ]
  },
  {
   "cell_type": "code",
   "execution_count": 59,
   "metadata": {},
   "outputs": [],
   "source": [
    "from sklearn.preprocessing import OneHotEncoder\n",
    "from sklearn.preprocessing import LabelEncoder\n",
    "def one_hot_encoder(pos_tag_list):\n",
    "    \n",
    "    # integer encode\n",
    "    label_encoder = LabelEncoder()\n",
    "    integer_encoded = label_encoder.fit_transform(pos_tag_list)\n",
    "    \n",
    "    # binary encode\n",
    "    onehot_encoder = OneHotEncoder(sparse=False)\n",
    "    integer_encoded = integer_encoded.reshape(len(integer_encoded), 1)\n",
    "    onehot_encoded = onehot_encoder.fit_transform(integer_encoded)\n",
    "    \n",
    "    return onehot_encoded"
   ]
  },
  {
   "cell_type": "code",
   "execution_count": 60,
   "metadata": {},
   "outputs": [],
   "source": [
    "fname = list(set([token.lower() for k,v in frame_name.items() for token in v]))\n",
    "felem = list(set([token.lower() for k,v in frame_element.items() for token in v]))\n",
    "\n",
    "#change all words to lower case\n",
    "lu_en = [token[0].lower() for token in set(lu[\"en\"])]\n",
    "lu_pt = [token[0].lower() for token in set(lu[\"pt\"])]\n",
    "lu_de = [token[0].lower() for token in set(lu[\"de\"])]\n",
    "fe_lu_en = [token[0].lower() for token in set(frame_element_lu[\"en\"])]\n",
    "fe_lu_pt = [token[0].lower() for token in set(frame_element_lu[\"pt\"])]\n",
    "fe_lu_de = [token[0].lower() for token in set(frame_element_lu[\"de\"])]\n",
    "pos_tag_list = list(set([tag for k,v in pos_tag.items() for tag in v]))\n",
    "\n",
    "#onehot_encoded = one_hot_encoder(pos_tag_list)\n",
    "#pos_embed = {tag : onehot_encoded[index] for index, tag in enumerate(pos_tag_list)}"
   ]
  },
  {
   "cell_type": "code",
   "execution_count": 61,
   "metadata": {},
   "outputs": [],
   "source": [
    "from gensim.models.wrappers import FastText\n",
    "def fasttext_embedding(path, lang, lu, fe_lu):\n",
    "    #for lu and frame element lu\n",
    "    \n",
    "    lu_embed = {}\n",
    "    fe_lu_embed = {}\n",
    "    oov_word = []\n",
    "    model = FastText.load_fasttext_format(path)\n",
    "    print('over')\n",
    "    \n",
    "    for word in lu:\n",
    "        try:\n",
    "            if len(word.split()) > 1 :\n",
    "                em = []\n",
    "                for w in word.split():\n",
    "                    em.append(model[w])\n",
    "                    \n",
    "                lu_embed[word] = np.average(em, axis = 0)\n",
    "                \n",
    "            else:\n",
    "                lu_embed[word] = model[word]\n",
    "        except:\n",
    "            oov_word.append(word)\n",
    "    \n",
    "    for word in fe_lu:\n",
    "        try:\n",
    "            if len(word.split()) > 1 :\n",
    "                em = []\n",
    "                for w in word.split():\n",
    "                    em.append(model[w])\n",
    "                    \n",
    "                fe_lu_embed[word] = np.average(em, axis = 0)\n",
    "                \n",
    "            else:\n",
    "                fe_lu_embed[word] = model[word]\n",
    "        except:\n",
    "            oov_word.append(word)\n",
    "    \n",
    "    return lu_embed, fe_lu_embed, oov_word"
   ]
  },
  {
   "cell_type": "code",
   "execution_count": 62,
   "metadata": {},
   "outputs": [],
   "source": [
    "def frame_embedding(path):\n",
    "    #frame and frame element embeddings using fasttext\n",
    "    \n",
    "    fname_embed = {}\n",
    "    felem_embed = {}\n",
    "    oov_word = []\n",
    "    model = FastText.load_fasttext_format(path)\n",
    "    print('over')\n",
    "    \n",
    "    for word in fname:\n",
    "        try:\n",
    "            if len(word.split(\"_\")) > 1 :\n",
    "                em = []\n",
    "                for w in word.split(\"_\"):\n",
    "                    em.append(model[w])\n",
    "\n",
    "                fname_embed[word] = np.average(em, axis = 0)\n",
    "\n",
    "            else:\n",
    "                fname_embed[word] = model[word]\n",
    "        except:\n",
    "            oov_word.append(word)\n",
    "\n",
    "    for word in felem:\n",
    "        try:\n",
    "            if len(word.split()) > 1 :\n",
    "                em = []\n",
    "                for w in word.split():\n",
    "                    em.append(model[w])\n",
    "\n",
    "                felem_embed[word] = np.average(em, axis = 0)\n",
    "\n",
    "            else:\n",
    "                felem_embed[word] = model[word]\n",
    "        except:\n",
    "            oov_word.append(word)\n",
    "            \n",
    "    print(len(oov_word))\n",
    "    return fname_embed, felem_embed, oov_word"
   ]
  },
  {
   "cell_type": "code",
   "execution_count": 9,
   "metadata": {},
   "outputs": [
    {
     "name": "stderr",
     "output_type": "stream",
     "text": [
      "/home/Debanjana/anaconda3/envs/gsoc19/lib/python3.6/site-packages/smart_open/smart_open_lib.py:398: UserWarning: This function is deprecated, use smart_open.open instead. See the migration notes for details: https://github.com/RaRe-Technologies/smart_open/blob/master/README.rst#migrating-to-the-new-open-function\n",
      "  'See the migration notes for details: %s' % _MIGRATION_NOTES_URL\n"
     ]
    },
    {
     "name": "stdout",
     "output_type": "stream",
     "text": [
      "over\n",
      "over\n",
      "over\n"
     ]
    }
   ],
   "source": [
    "#download the required bin files for the next step from https://fasttext.cc/docs/en/crawl-vectors.html\n",
    "#provide the path of the downloaded files below\n",
    "path_en = '../resources/cc.en.300.bin'\n",
    "path_de = '../resources/cc.de.300.bin'\n",
    "path_pt = '../resources/cc.pt.300.bin'\n",
    "fname_embed, felem_embed, oov_frame_en = frame_embedding(path_en)\n",
    "lu_embed_en, fe_lu_embed_en, oov_word_en = fasttext_embedding(path_en, \"en\", lu_en, fe_lu_en)\n",
    "lu_embed_pt, fe_lu_embed_pt, oov_word_pt = fasttext_embedding(path_pt, \"pt\", lu_pt, fe_lu_pt)\n",
    "lu_embed_de, fe_lu_embed_de, oov_word_de = fasttext_embedding(path_de, \"de\", lu_de, fe_lu_de)\n"
   ]
  },
  {
   "cell_type": "code",
   "execution_count": 15,
   "metadata": {},
   "outputs": [
    {
     "data": {
      "text/plain": [
       "list"
      ]
     },
     "execution_count": 15,
     "metadata": {},
     "output_type": "execute_result"
    }
   ],
   "source": [
    "# Some texts of different lengths in different languages.\n",
    "english_sentences = text['en']\n",
    "german_sentences = text['de']\n",
    "portuguese_sentences = text['pt']"
   ]
  },
  {
   "cell_type": "markdown",
   "metadata": {},
   "source": [
    "##### create sentence embeddings using Google's universal sentence encoder : https://tfhub.dev/google/universal-sentence-encoder-multilingual/1"
   ]
  },
  {
   "cell_type": "code",
   "execution_count": 10,
   "metadata": {
    "scrolled": true
   },
   "outputs": [],
   "source": [
    "import tensorflow as tf\n",
    "import tensorflow_hub as hub\n",
    "import numpy as np\n",
    "import tf_sentencepiece"
   ]
  },
  {
   "cell_type": "code",
   "execution_count": 12,
   "metadata": {},
   "outputs": [
    {
     "name": "stdout",
     "output_type": "stream",
     "text": [
      "INFO:tensorflow:Saver not created because there are no variables in the graph to restore\n"
     ]
    },
    {
     "name": "stderr",
     "output_type": "stream",
     "text": [
      "WARNING: Logging before flag parsing goes to stderr.\n",
      "I0721 22:11:40.355563 140722132289280 tf_logging.py:115] Saver not created because there are no variables in the graph to restore\n"
     ]
    }
   ],
   "source": [
    "# The 8-language multilingual module. There are also en-es, en-de, and en-fr bilingual modules.\n",
    "module_url = \"https://tfhub.dev/google/universal-sentence-encoder-xling-many/1\"\n",
    "\n",
    "# Set up graph.\n",
    "g = tf.Graph()\n",
    "with g.as_default():\n",
    "    text_input = tf.placeholder(dtype=tf.string, shape=[None])\n",
    "    xling_8_embed = hub.Module(module_url)\n",
    "    embedded_text = xling_8_embed(text_input)\n",
    "    init_op = tf.group([tf.global_variables_initializer(), tf.tables_initializer()])\n",
    "g.finalize()\n",
    "\n",
    "# Initialize session.\n",
    "session = tf.Session(graph=g)\n",
    "session.run(init_op)\n",
    "\n",
    "# Compute embeddings.\n",
    "en_result = session.run(embedded_text, feed_dict={text_input: english_sentences})\n",
    "de_result = session.run(embedded_text, feed_dict={text_input: german_sentences})\n",
    "pt_result = session.run(embedded_text, feed_dict={text_input: portuguese_sentences})"
   ]
  },
  {
   "cell_type": "code",
   "execution_count": 13,
   "metadata": {},
   "outputs": [],
   "source": [
    "with open(\"../resources/frame_embeddings.pickle\", \"wb\") as pkl_fn:\n",
    "    pkl.dump(fname_embed, pkl_fn)\n",
    "    pkl.dump(felem_embed, pkl_fn)\n",
    "    pkl.dump(pos_embed, pkl_fn)\n",
    "    \n",
    "with open(\"../resources/en_embeddings.pickle\", \"wb\") as pkl_en:\n",
    "    pkl.dump(lu_embed_en, pkl_en)\n",
    "    pkl.dump(fe_lu_embed_en, pkl_en)\n",
    "    pkl.dump(en_result, pkl_en)\n",
    "\n",
    "with open(\"../resources/de_embeddings.pickle\", \"wb\") as pkl_de:\n",
    "    pkl.dump(lu_embed_de, pkl_de)\n",
    "    pkl.dump(fe_lu_embed_de, pkl_de)\n",
    "    pkl.dump(de_result, pkl_de)\n",
    "    \n",
    "with open(\"../resources/pt_embeddings.pickle\", \"wb\") as pkl_pt:\n",
    "    pkl.dump(lu_embed_pt, pkl_pt)\n",
    "    pkl.dump(fe_lu_embed_pt, pkl_pt)\n",
    "    pkl.dump(pt_result, pkl_pt)"
   ]
  },
  {
   "cell_type": "code",
   "execution_count": 14,
   "metadata": {},
   "outputs": [],
   "source": [
    "with open('../resources/oov_words_en.txt','w') as f:\n",
    "    for word in oov_word_en:\n",
    "        f.write(word + \" \")\n",
    "        \n",
    "with open('../resources/oov_words_de.txt','w') as f:\n",
    "    for word in oov_word_de:\n",
    "        f.write(word + \" \")\n",
    "        \n",
    "with open('../resources/oov_words_pt.txt','w') as f:\n",
    "    for word in oov_word_pt:\n",
    "        f.write(word + \" \")"
   ]
  },
  {
   "cell_type": "code",
   "execution_count": 15,
   "metadata": {},
   "outputs": [
    {
     "name": "stdout",
     "output_type": "stream",
     "text": [
      "--- 1314.5232484340668 seconds ---\n"
     ]
    }
   ],
   "source": [
    "print(\"--- %s seconds ---\" % (time.time() - start_time))"
   ]
  }
 ],
 "metadata": {
  "kernelspec": {
   "display_name": "gsoc19",
   "language": "python",
   "name": "gsoc19"
  },
  "language_info": {
   "codemirror_mode": {
    "name": "ipython",
    "version": 3
   },
   "file_extension": ".py",
   "mimetype": "text/x-python",
   "name": "python",
   "nbconvert_exporter": "python",
   "pygments_lexer": "ipython3",
   "version": "3.6.8"
  }
 },
 "nbformat": 4,
 "nbformat_minor": 2
}
