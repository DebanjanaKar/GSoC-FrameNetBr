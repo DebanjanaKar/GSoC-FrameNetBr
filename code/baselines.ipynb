{
 "cells": [
  {
   "cell_type": "code",
   "execution_count": 1,
   "metadata": {},
   "outputs": [],
   "source": [
    "import pickle as pkl\n",
    "with open(\"../resources/final_data.pickle\",\"rb\") as pkl_in:\n",
    "    en_pt_data_original = pkl.load(pkl_in)\n",
    "    en_de_data_original = pkl.load(pkl_in)\n",
    "    en_pt_data = pkl.load(pkl_in)\n",
    "    en_de_data = pkl.load(pkl_in)\n",
    "    data_original_ft = pkl.load(pkl_in)\n",
    "    data_original_bert = pkl.load(pkl_in)\n",
    "    data = pkl.load(pkl_in)"
   ]
  },
  {
   "cell_type": "code",
   "execution_count": 2,
   "metadata": {},
   "outputs": [],
   "source": [
    "#separating unannotated from human annotated data (unscored data from scored)\n",
    "unscored_data = {k : v for k, v in data.items() if data[k]['y'] == 10.0}\n",
    "data = {k : v for k, v in data.items() if data[k]['y'] != 10.0}\n",
    "len(unscored_data), len(data)\n",
    "\n",
    "en_pt_data_original = {k : v for k, v in en_pt_data_original.items() if en_pt_data_original[k]['y'] != 10.0}\n",
    "en_de_data_original = {k : v for k, v in en_de_data_original.items() if en_de_data_original[k]['y'] != 10.0}\n",
    "en_pt_data = {k : v for k, v in en_pt_data.items() if en_pt_data[k]['y'] != 10.0}\n",
    "en_de_data = {k : v for k, v in en_de_data.items() if en_de_data[k]['y'] != 10.0}\n",
    "data_original_ft = {k : v for k, v in data_original_ft.items() if data_original_ft[k]['y'] != 10.0}\n",
    "data_original_bert = {k : v for k, v in data_original_bert.items() if data_original_bert[k]['y'] != 10.0}"
   ]
  },
  {
   "cell_type": "code",
   "execution_count": 3,
   "metadata": {},
   "outputs": [
    {
     "data": {
      "text/plain": [
       "<Figure size 640x480 with 1 Axes>"
      ]
     },
     "metadata": {},
     "output_type": "display_data"
    }
   ],
   "source": [
    "#data analysis\n",
    "import pandas as pd\n",
    "import matplotlib.pyplot as plt\n",
    "import seaborn as sns\n",
    "sns.set()\n",
    "\n",
    "plt.hist(pd.DataFrame(data_original_ft).T[['y']].values, edgecolor = 'yellow', bins = int(180/8))     #change data of your choice to analyse\n",
    "plt.xlabel('Translation Scores')\n",
    "plt.ylabel('Frequency')\n",
    "plt.title('Frequency Distribution of Data')\n",
    "\n",
    "#trying power transforms to find a Gaussian distribution, or Gaussian-like distribution from the currently skewed distribution\n",
    "#useful link : https://machinelearningmastery.com/how-to-transform-data-to-fit-the-normal-distribution/\n",
    "from scipy.stats import boxcox\n",
    "t = [i[0] for i in pd.DataFrame(data_original_ft).T[['y']].values]\n",
    "d = boxcox(t, 1)\n",
    "# histogram\n",
    "plt.hist(d)\n",
    "types = ['Original Data', 'Transformed Data']\n",
    "plt.legend(types)\n",
    "plt.show()"
   ]
  },
  {
   "cell_type": "code",
   "execution_count": 4,
   "metadata": {},
   "outputs": [],
   "source": [
    "def get_X_Y(df, split):\n",
    "    \n",
    "    y = df['y'].values\n",
    "    del df['y']\n",
    "    x = df.values\n",
    "    #linear regressor doesn't take 3d input\n",
    "    x = [[np.average(x[i][j]) for j in range(len(x[i]))] for i in range(len(x))]\n",
    "    x = np.array(x)\n",
    "    \n",
    "    #train-test split\n",
    "    from sklearn.model_selection import train_test_split\n",
    "    X_train, X_test, y_train, y_test = train_test_split(x, y, test_size = split, random_state=42)\n",
    "    print('Size of Train Size : ', len(X_train))\n",
    "    print('Size of Test Size :', len(X_test))\n",
    "    \n",
    "    return X_train, X_test, y_train, y_test"
   ]
  },
  {
   "cell_type": "code",
   "execution_count": 5,
   "metadata": {},
   "outputs": [],
   "source": [
    "import numpy as np\n",
    "\n",
    "def simple_LR(X_train, X_test, y_train, y_test):\n",
    "    \n",
    "    #model fitting\n",
    "    from sklearn.linear_model import LinearRegression\n",
    "    reg = LinearRegression().fit(X_train, y_train)\n",
    "\n",
    "    yPrediction_Train = reg.predict(X_train)\n",
    "\n",
    "    yPrediction_Test = reg.predict(X_test)\n",
    "    \n",
    "    #in case you are confused about score() like I was, here's a useful link : https://www.kaggle.com/getting-started/27261\n",
    "    return yPrediction_Train, yPrediction_Test, reg.score(X_train, y_train), reg.score(X_test, y_test)"
   ]
  },
  {
   "cell_type": "code",
   "execution_count": 6,
   "metadata": {},
   "outputs": [],
   "source": [
    "def scores(y_true, y_pred, type_):\n",
    "    from sklearn.metrics import mean_squared_error\n",
    "    mse = mean_squared_error(y_true, y_pred)    #mse\n",
    "    rmse = np.sqrt(mean_squared_error(y_true, y_pred))     #rmse\n",
    "    coef = np.corrcoef([np.array(y_true).astype(float), np.array(y_pred).astype(float)])[1,0]  #Pearson product-moment correlation coefficients\n",
    "    \n",
    "    print(\"Results for \", type_)\n",
    "    print(\"RMSE : \", round(rmse, 4), \"MSE : \", round(mse, 4), \"Pearson Correlation Coefficient : \", round(coef, 4) )\n",
    "    return round(mse, 4), round(rmse, 4), round(coef, 4)"
   ]
  },
  {
   "cell_type": "code",
   "execution_count": 7,
   "metadata": {},
   "outputs": [
    {
     "name": "stdout",
     "output_type": "stream",
     "text": [
      "Size of Train Size :  20\n",
      "Size of Test Size : 10\n",
      "----------------------------------------------------\n",
      "En-Pt scores\n",
      "0.2607708089205858 -0.6115674720190696\n",
      "Results for  train\n",
      "RMSE :  0.1179 MSE :  0.0139 Pearson Correlation Coefficient :  0.5107\n",
      "Results for  test\n",
      "RMSE :  0.0982 MSE :  0.0096 Pearson Correlation Coefficient :  -0.0537\n",
      "------------------------------------------------\n",
      "Size of Train Size :  20\n",
      "Size of Test Size : 11\n",
      "----------------------------------------------------\n",
      "En-De scores\n",
      "0.10332481354910317 -0.9970102719282232\n",
      "Results for  train\n",
      "RMSE :  0.155 MSE :  0.024 Pearson Correlation Coefficient :  0.3214\n",
      "Results for  test\n",
      "RMSE :  0.1722 MSE :  0.0296 Pearson Correlation Coefficient :  -0.1663\n"
     ]
    }
   ],
   "source": [
    "#model with 30 sentences as data size & fasttext embeddings: baseline 1\n",
    "\n",
    "X_train, X_test, y_train, y_test = get_X_Y(pd.DataFrame(en_pt_data_original).T[['lang1_fe_ft', 'lang1_fn_ft', 'lang2_fe_ft', 'lang2_fn_ft','y']], 0.33)\n",
    "ypred_train_enpt_original, ypred_test_enpt_original, score_train_enpt_original, score_test_enpt_original = simple_LR(X_train, X_test, y_train, y_test)\n",
    "\n",
    "print(\"----------------------------------------------------\")\n",
    "#model 1 scores\n",
    "print(\"En-Pt scores\")\n",
    "print(score_train_enpt_original, score_test_enpt_original)\n",
    "mse_train_enpt_original, rmse_train_enpt_original, corel_enpt_original_train = scores(y_train, ypred_train_enpt_original, \"train\")\n",
    "mse_test_enpt_original, rmse_test_enpt_original, corel_enpt_original_test = scores(y_test, ypred_test_enpt_original, \"test\")\n",
    "\n",
    "print(\"------------------------------------------------\")\n",
    "\n",
    "X_train, X_test, y_train, y_test = get_X_Y(pd.DataFrame(en_de_data_original).T[['lang1_fe_ft', 'lang1_fn_ft', 'lang2_fe_ft', 'lang2_fn_ft','y']], 0.33)\n",
    "ypred_train_ende_original, ypred_test_ende_original, score_train_ende_original, score_test_ende_original = simple_LR(X_train, X_test, y_train, y_test)\n",
    "\n",
    "print(\"----------------------------------------------------\")\n",
    "\n",
    "print(\"En-De scores\")\n",
    "print(score_train_ende_original, score_test_ende_original)\n",
    "mse_train_ende_original, rmse_train_ende_original, corel_ende_original_train = scores(y_train, ypred_train_ende_original, \"train\")\n",
    "mse_test_ende_original, rmse_test_ende_original, corel_ende_original_test = scores(y_test, ypred_test_ende_original, \"test\")\n",
    "\n"
   ]
  },
  {
   "cell_type": "code",
   "execution_count": 8,
   "metadata": {},
   "outputs": [
    {
     "name": "stdout",
     "output_type": "stream",
     "text": [
      "Size of Train Size :  33\n",
      "Size of Test Size : 7\n",
      "----------------------------------------------------\n",
      "En-Pt scores\n",
      "0.14308896333765042 -0.4009121658719783\n",
      "Results for  train\n",
      "RMSE :  0.3424 MSE :  0.1173 Pearson Correlation Coefficient :  0.3783\n",
      "Results for  test\n",
      "RMSE :  0.372 MSE :  0.1383 Pearson Correlation Coefficient :  -0.5679\n",
      "----------------------------------------------------\n",
      "Size of Train Size :  27\n",
      "Size of Test Size : 14\n",
      "----------------------------------------------------\n",
      "En-De scores\n",
      "0.24988421209782288 -0.17354589262060505\n",
      "Results for  train\n",
      "RMSE :  0.3254 MSE :  0.1059 Pearson Correlation Coefficient :  0.4999\n",
      "Results for  test\n",
      "RMSE :  0.3365 MSE :  0.1132 Pearson Correlation Coefficient :  0.091\n"
     ]
    }
   ],
   "source": [
    "#model with 40 sentences (30 original and 10 negative samples) as data size & fasttext embeddings: baseline 2\n",
    "\n",
    "X_train, X_test, y_train, y_test = get_X_Y(pd.DataFrame(en_pt_data).T[['lang1_fe_ft', 'lang1_fn_ft', 'lang2_fe_ft', 'lang2_fn_ft','y']], 0.165)\n",
    "ypred_train_enpt, ypred_test_enpt, score_train_enpt, score_test_enpt = simple_LR(X_train, X_test, y_train, y_test)\n",
    "\n",
    "print(\"----------------------------------------------------\")\n",
    "print(\"En-Pt scores\")\n",
    "print(score_train_enpt, score_test_enpt)\n",
    "mse_train_enpt, rmse_train_enpt, corel_train_enpt = scores(y_train, ypred_train_enpt, \"train\")\n",
    "mse_test_enpt, rmse_test_enpt, corel_test_enpt = scores(y_test, ypred_test_enpt, \"test\")\n",
    "\n",
    "print(\"----------------------------------------------------\")\n",
    "X_train, X_test, y_train, y_test = get_X_Y(pd.DataFrame(en_de_data).T[['lang1_fe_ft', 'lang1_fn_ft', 'lang2_fe_ft', 'lang2_fn_ft','y']], 0.33)\n",
    "ypred_train_ende, ypred_test_ende, score_train_ende, score_test_ende = simple_LR(X_train, X_test, y_train, y_test)\n",
    "\n",
    "print(\"----------------------------------------------------\")\n",
    "\n",
    "#model 2 scores\n",
    "print(\"En-De scores\")\n",
    "print(score_train_ende, score_test_ende)\n",
    "mse_train_ende, rmse_train_ende, corel_train_ende = scores(y_train, ypred_train_ende, \"train\")\n",
    "mse_test_ende, rmse_test_ende, corel_test_ende = scores(y_test, ypred_test_ende, \"test\")\n"
   ]
  },
  {
   "cell_type": "code",
   "execution_count": 9,
   "metadata": {},
   "outputs": [
    {
     "name": "stdout",
     "output_type": "stream",
     "text": [
      "Size of Train Size :  40\n",
      "Size of Test Size : 21\n",
      "--------------------------------------------\n",
      "0.3078918582019393 0.011829509113257641\n",
      "Results for  train\n",
      "RMSE :  0.1003 MSE :  0.0101 Pearson Correlation Coefficient :  0.5549\n",
      "Results for  test\n",
      "RMSE :  0.1656 MSE :  0.0274 Pearson Correlation Coefficient :  0.2512\n"
     ]
    }
   ],
   "source": [
    "#model with 61 sentences as data size & fasttext embeddings - using simple linear regressor: baseline 3\n",
    "\n",
    "X_train, X_test, y_train, y_test = get_X_Y(pd.DataFrame(data_original_ft).T, 0.33)\n",
    "ypred_train, ypred_test, score_train, score_test = simple_LR(X_train, X_test, y_train, y_test)\n",
    "\n",
    "print(\"--------------------------------------------\")\n",
    "#model 3 scores\n",
    "print(score_train, score_test)\n",
    "mse_train_ft, rmse_train_ft, corel_train_ft = scores(y_train, ypred_train, \"train\")\n",
    "mse_test_ft, rmse_test_ft, corel_test_ft = scores(y_test, ypred_test, \"test\")"
   ]
  },
  {
   "cell_type": "code",
   "execution_count": 10,
   "metadata": {},
   "outputs": [
    {
     "name": "stdout",
     "output_type": "stream",
     "text": [
      "Size of Train Size :  40\n",
      "Size of Test Size : 21\n",
      "--------------------------------------------\n",
      "0.36223064587102194 0.15849299211959245\n",
      "Results for  train\n",
      "RMSE :  0.0963 MSE :  0.0093 Pearson Correlation Coefficient :  0.6019\n",
      "Results for  test\n",
      "RMSE :  0.1528 MSE :  0.0233 Pearson Correlation Coefficient :  0.4513\n"
     ]
    }
   ],
   "source": [
    "#model with 61 sentences as data size & bert embeddings - using simple linear regressor: baseline 4\n",
    "\n",
    "X_train, X_test, y_train, y_test = get_X_Y(pd.DataFrame(data_original_bert).T, 0.33)\n",
    "ypred_train, ypred_test, score_train, score_test = simple_LR(X_train, X_test, y_train, y_test)\n",
    "\n",
    "print(\"--------------------------------------------\")\n",
    "#model 3 scores\n",
    "print(score_train, score_test)\n",
    "mse_train_bert, rmse_train_bert, corel_train_bert = scores(y_train, ypred_train, \"train\")\n",
    "mse_test_bert, rmse_test_bert, corel_test_bert = scores(y_test, ypred_test, \"test\")"
   ]
  },
  {
   "cell_type": "code",
   "execution_count": 11,
   "metadata": {
    "scrolled": true
   },
   "outputs": [],
   "source": [
    "#pd.DataFrame(data).T[['lang1_fe_ft', 'lang1_fn_ft', 'lang1_lu_ft', 'lang1_sent_ft', 'lang2_fe_ft', 'lang2_fn_ft', 'lang2_lu_ft', 'lang2_sent_ft','y']]"
   ]
  },
  {
   "cell_type": "code",
   "execution_count": 12,
   "metadata": {},
   "outputs": [
    {
     "data": {
      "image/png": "[encoded data removed]",
      "text/plain": [
       "<Figure size 432x288 with 1 Axes>"
      ]
     },
     "metadata": {
      "needs_background": "light"
     },
     "output_type": "display_data"
    },
    {
     "data": {
      "image/png": "[encoded data removed]",
      "text/plain": [
       "<Figure size 432x288 with 1 Axes>"
      ]
     },
     "metadata": {
      "needs_background": "light"
     },
     "output_type": "display_data"
    }
   ],
   "source": [
    "#plotting output\n",
    "\n",
    "#plotting rmse values\n",
    "y = [rmse_test_ft, rmse_test_bert, rmse_test_ende, rmse_test_ende_original, rmse_test_enpt, rmse_test_enpt_original]\n",
    "x = [\"61 +ve sentences(combined) + fasttext\", \"61 +ve sentences(combined) + bert\", \"30 sentences + 10 neg sentences + fasttext + ende\",\"30 sentences + fasttext + ende\", \"30 sentences + 10 neg sentences + fasttext + enpt\", \"30 sentences + fasttext + enpt\"]\n",
    "colors = ['#E69F00', '#56B4E9', '#F0E442', '#009E73', '#D55E00', '#B2511D', '#0207DF']\n",
    "plt.barh(x, y, align = 'center', color = colors) # A bar chart\n",
    "plt.xlabel('RMSE on Test Instances')\n",
    "plt.ylabel('Datasets/Models')\n",
    "\n",
    "plt.show()\n",
    "\n",
    "y = [corel_test_ft, corel_test_bert, corel_test_ende, corel_ende_original_test, corel_test_enpt, corel_enpt_original_test]\n",
    "x = [\"61 +ve sentences(combined) + fasttext\", \"61 +ve sentences(combined) + bert\", \"30 sentences + 10 neg sentences + fasttext + ende\",\"30 sentences + fasttext + ende\", \"30 sentences + 10 neg sentences + fasttext + enpt\", \"30 sentences + fasttext + enpt\"]\n",
    "#colors = ['#E69F00', '#56B4E9', '#F0E442', '#009E73', '#D55E00', '#B2511D', '#0207DF']\n",
    "plt.plot(y, x, color = 'red', lw = 3) # A bar chart\n",
    "plt.xlabel('Pearson Correlation Coefficient on Test Instances')\n",
    "plt.ylabel('Datasets/Models')\n",
    "\n",
    "plt.show()"
   ]
  }
 ],
 "metadata": {
  "kernelspec": {
   "display_name": "gsoc19",
   "language": "python",
   "name": "gsoc19"
  },
  "language_info": {
   "codemirror_mode": {
    "name": "ipython",
    "version": 3
   },
   "file_extension": ".py",
   "mimetype": "text/x-python",
   "name": "python",
   "nbconvert_exporter": "python",
   "pygments_lexer": "ipython3",
   "version": "3.6.8"
  }
 },
 "nbformat": 4,
 "nbformat_minor": 2
}
