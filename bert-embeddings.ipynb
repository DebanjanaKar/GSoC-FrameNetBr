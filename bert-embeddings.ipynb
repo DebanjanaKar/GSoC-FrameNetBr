{
 "cells": [
  {
   "cell_type": "code",
   "execution_count": 1,
   "metadata": {},
   "outputs": [],
   "source": [
    "import torch"
   ]
  },
  {
   "cell_type": "code",
   "execution_count": 2,
   "metadata": {},
   "outputs": [],
   "source": [
    "from pytorch_pretrained_bert import BertTokenizer, BertModel, BertForMaskedLM"
   ]
  },
  {
   "cell_type": "code",
   "execution_count": 3,
   "metadata": {},
   "outputs": [],
   "source": [
    "import logging\n",
    "logging.basicConfig(level=logging.INFO)"
   ]
  },
  {
   "cell_type": "code",
   "execution_count": 4,
   "metadata": {},
   "outputs": [],
   "source": [
    "import matplotlib.pyplot as plt"
   ]
  },
  {
   "cell_type": "code",
   "execution_count": 5,
   "metadata": {},
   "outputs": [
    {
     "name": "stderr",
     "output_type": "stream",
     "text": [
      "WARNING:pytorch_pretrained_bert.tokenization:The pre-trained model you are loading is a cased model but you have not set `do_lower_case` to False. We are setting `do_lower_case=False` for you but you may want to check this behavior.\n",
      "INFO:pytorch_pretrained_bert.file_utils:https://s3.amazonaws.com/models.huggingface.co/bert/bert-base-multilingual-cased-vocab.txt not found in cache, downloading to /tmp/tmpiqm7sscm\n",
      "100%|██████████| 995526/995526 [00:02<00:00, 437621.67B/s]\n",
      "INFO:pytorch_pretrained_bert.file_utils:copying /tmp/tmpiqm7sscm to cache at /home/Debanjana/.pytorch_pretrained_bert/96435fa287fbf7e469185f1062386e05a075cadbf6838b74da22bf64b080bc32.99bcd55fc66f4f3360bc49ba472b940b8dcf223ea6a345deb969d607ca900729\n",
      "INFO:pytorch_pretrained_bert.file_utils:creating metadata file for /home/Debanjana/.pytorch_pretrained_bert/96435fa287fbf7e469185f1062386e05a075cadbf6838b74da22bf64b080bc32.99bcd55fc66f4f3360bc49ba472b940b8dcf223ea6a345deb969d607ca900729\n",
      "INFO:pytorch_pretrained_bert.file_utils:removing temp file /tmp/tmpiqm7sscm\n",
      "INFO:pytorch_pretrained_bert.tokenization:loading vocabulary file https://s3.amazonaws.com/models.huggingface.co/bert/bert-base-multilingual-cased-vocab.txt from cache at /home/Debanjana/.pytorch_pretrained_bert/96435fa287fbf7e469185f1062386e05a075cadbf6838b74da22bf64b080bc32.99bcd55fc66f4f3360bc49ba472b940b8dcf223ea6a345deb969d607ca900729\n"
     ]
    }
   ],
   "source": [
    "tokenizer = BertTokenizer.from_pretrained('bert-base-multilingual-cased')"
   ]
  },
  {
   "cell_type": "code",
   "execution_count": 6,
   "metadata": {},
   "outputs": [],
   "source": [
    "import pickle as pkl\n",
    "\n",
    "with open(\"../resources/annotated_data.pickle\",\"rb\") as pkl_in:\n",
    "    data = pkl.load(pkl_in)\n",
    "    text = pkl.load(pkl_in)\n",
    "    lu = pkl.load(pkl_in)\n",
    "    pos_tag = pkl.load(pkl_in)\n",
    "    frame_name = pkl.load(pkl_in)\n",
    "    frame_element = pkl.load(pkl_in)\n",
    "    frame_element_lu = pkl.load(pkl_in)\n",
    "    lang = pkl.load(pkl_in)"
   ]
  },
  {
   "cell_type": "code",
   "execution_count": 10,
   "metadata": {},
   "outputs": [],
   "source": [
    "sentences_en = text['en']\n",
    "sentences_pt = text['pt']\n",
    "sentences_de = text['de']"
   ]
  },
  {
   "cell_type": "code",
   "execution_count": 25,
   "metadata": {},
   "outputs": [],
   "source": [
    "def preprocessing(sent_list):\n",
    "    marked_text = ['[CLS] ' + sent + ' [SEP]' for sent in sent_list]\n",
    "    tokenized_text = [tokenizer.tokenize(text) for text in marked_text]\n",
    "    indexed_tokens = [tokenizer.convert_tokens_to_ids(token) for token in tokenized_text]\n",
    "    segments_ids = [[1] * len(token) for token in tokenized_text]\n",
    "    # Convert inputs to PyTorch tensors\n",
    "    tokens_tensor = [torch.tensor([token]) for token in indexed_tokens]\n",
    "    segments_tensors = [torch.tensor([seg_id]) for seg_id in segments_ids]\n",
    "    \n",
    "    return marked_text, tokenized_text, indexed_tokens, segments_ids, tokens_tensor, segments_tensors"
   ]
  },
  {
   "cell_type": "code",
   "execution_count": 26,
   "metadata": {},
   "outputs": [],
   "source": [
    "#pre-processing\n",
    "#english\n",
    "marked_en, tokenized_text_en, indexed_tokens_en, segments_ids_en, tokens_tensor_en, segments_tensors_en = preprocessing(sentences_en)\n",
    "\n",
    "#portuguese\n",
    "marked_pt, tokenized_text_pt, indexed_tokens_pt, segments_ids_pt, tokens_tensor_pt, segments_tensors_pt = preprocessing(sentences_pt)\n",
    "\n",
    "#deutsche\n",
    "marked_de, tokenized_text_de, indexed_tokens_de, segments_ids_de, tokens_tensor_de, segments_tensors_de = preprocessing(sentences_de)"
   ]
  },
  {
   "cell_type": "code",
   "execution_count": null,
   "metadata": {},
   "outputs": [
    {
     "name": "stderr",
     "output_type": "stream",
     "text": [
      "INFO:pytorch_pretrained_bert.file_utils:https://s3.amazonaws.com/models.huggingface.co/bert/bert-base-multilingual-cased.tar.gz not found in cache, downloading to /tmp/tmp7xaly1ar\n",
      "  3%|▎         | 19671040/662804195 [00:32<17:28, 613118.66B/s] "
     ]
    }
   ],
   "source": [
    "# Load pre-trained model (weights)\n",
    "model = BertModel.from_pretrained('bert-base-multilingual-cased')\n",
    "\n",
    "# Put the model in \"evaluation\" mode, meaning feed-forward operation.\n",
    "model.eval()"
   ]
  }
 ],
 "metadata": {
  "kernelspec": {
   "display_name": "gsoc19",
   "language": "python",
   "name": "gsoc19"
  },
  "language_info": {
   "codemirror_mode": {
    "name": "ipython",
    "version": 3
   },
   "file_extension": ".py",
   "mimetype": "text/x-python",
   "name": "python",
   "nbconvert_exporter": "python",
   "pygments_lexer": "ipython3",
   "version": "3.6.8"
  }
 },
 "nbformat": 4,
 "nbformat_minor": 2
}
